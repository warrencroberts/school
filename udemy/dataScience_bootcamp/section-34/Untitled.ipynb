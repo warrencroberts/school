{
 "cells": [
  {
   "cell_type": "code",
   "execution_count": 12,
   "metadata": {},
   "outputs": [],
   "source": [
    "from ipaddress import *"
   ]
  },
  {
   "cell_type": "code",
   "execution_count": 36,
   "metadata": {},
   "outputs": [
    {
     "name": "stdout",
     "output_type": "stream",
     "text": [
      "'192.178.2.555/255.255.255.0' does not appear to be an IPv4 or IPv6 network\n",
      "division by zero\n"
     ]
    }
   ],
   "source": [
    "exception_list = []\n",
    "try:\n",
    "    net = ip_network('192.178.2.555/255.255.255.0', strict=False)\n",
    "except BaseException as ex:\n",
    "    exception_list.append(ex)\n",
    "\n",
    "try:\n",
    "    blah = 5/0\n",
    "except BaseException as ex:\n",
    "    exception_list.append(ex)\n",
    "    \n",
    "if len(exception_list) > 0:\n",
    "    for ex in exception_list:\n",
    "        print(ex)"
   ]
  },
  {
   "cell_type": "code",
   "execution_count": 40,
   "metadata": {},
   "outputs": [],
   "source": [
    "exception_list = []\n",
    "# get server IP/mask/gw, ask user if it's correct\n",
    "ipaddress = '10.200.1.55'\n",
    "cidr = '24'\n",
    "subnet = ipaddress + '/' + cidr\n",
    "\n",
    "try:\n",
    "    net = ip_network(subnet, strict=False)\n",
    "    subnet_start = str(net.network_address)\n",
    "    netmask = str(net.netmask)\n",
    "    broadcast = str(net.broadcast_address)\n",
    "except BaseException as ex:\n",
    "    exception_list.append(ex)\n",
    "    \n",
    "if len(exception_list) > 0:\n",
    "    for ex in exception_list:\n",
    "        print(ex)\n",
    "    exit(1)\n",
    "\n",
    "# gateway = input('gateway: ')\n",
    "# dns = input('dns: ')\n",
    "# dhcp_scope_start = input('dhcpscope start: ')\n",
    "# dhcp_scope_end = input('dhcp scope end: ')\n",
    "# print('ipaddress: ' + ipaddress)\n",
    "# print('cidr mask: ' + cidr)\n",
    "# print('subnet: ' + subnet)\n",
    "# print('network: ' + subnet_start)\n",
    "# print('netmask: ' + netmask)\n",
    "# print('broadcast: ' + broadcast)\n",
    "# print('gateway: ' + gateway)\n",
    "# print('dns: ' + dns)\n",
    "# print('dhcp_scope_start: ' + dhcp_scope_start)\n",
    "# print('dhcp_scope_end: ' + dhcp_scope_end)\n"
   ]
  },
  {
   "cell_type": "code",
   "execution_count": 16,
   "metadata": {},
   "outputs": [],
   "source": [
    "net = ip_network('192.178.2.55/24', strict=False)"
   ]
  },
  {
   "cell_type": "code",
   "execution_count": 17,
   "metadata": {},
   "outputs": [
    {
     "data": {
      "text/plain": [
       "IPv4Address('192.178.2.0')"
      ]
     },
     "execution_count": 17,
     "metadata": {},
     "output_type": "execute_result"
    }
   ],
   "source": [
    "net.network_address"
   ]
  },
  {
   "cell_type": "code",
   "execution_count": 19,
   "metadata": {},
   "outputs": [
    {
     "data": {
      "text/plain": [
       "'192.178.2.255'"
      ]
     },
     "execution_count": 19,
     "metadata": {},
     "output_type": "execute_result"
    }
   ],
   "source": [
    "str(net.broadcast_address)"
   ]
  },
  {
   "cell_type": "code",
   "execution_count": 20,
   "metadata": {},
   "outputs": [
    {
     "data": {
      "text/plain": [
       "'255.255.255.0'"
      ]
     },
     "execution_count": 20,
     "metadata": {},
     "output_type": "execute_result"
    }
   ],
   "source": [
    "str(net.netmask)"
   ]
  },
  {
   "cell_type": "code",
   "execution_count": null,
   "metadata": {},
   "outputs": [],
   "source": [
    "def cidr_to_netmask(cidr):\n",
    "    network, net_bits = cidr.split('/')\n",
    "    host_bits = 32 - int(net_bits)\n",
    "    netmask = socket.inet_ntoa(struct.pack('!I', (1 << 32) - (1 << host_bits)))\n",
    "    return network, netmask\n"
   ]
  },
  {
   "cell_type": "code",
   "execution_count": 2,
   "metadata": {},
   "outputs": [
    {
     "data": {
      "text/plain": [
       "str"
      ]
     },
     "execution_count": 2,
     "metadata": {},
     "output_type": "execute_result"
    }
   ],
   "source": [
    "# get server IP/mask/gw, ask user if it's correct\n",
    "#ipaddress = input('IP Address: ')\n",
    "#cidr = input('netmask: ')\n",
    "ipaddress = '192.168.10.3'\n",
    "cidr = '24'\n",
    "subnet = ipaddress + '/' + cidr\n"
   ]
  },
  {
   "cell_type": "code",
   "execution_count": null,
   "metadata": {},
   "outputs": [],
   "source": [
    "network, netmask = cidr_to_netmask(ipaddress + '/' + cidr)\n",
    "broadcast = str(network.broadcast_address)\n",
    "gateway = input('gateway: ')\n",
    "dns = input('dns: ')\n",
    "dhcp_scope_start = input('dhcpscope start: ')\n",
    "dhcp_scope_end = input('dhcp scope end: ')\n",
    "\n",
    "print('ipaddress: ' + ipaddress)\n",
    "print('cidr mask: ' + cidr)\n",
    "print('subnet: ' + subnet)\n",
    "print('network: ' + network)\n",
    "print('netmask: ' + netmask)\n",
    "print('broadcast: ' + broadcast)\n",
    "print('gateway: ' + gateway)\n",
    "print('dns: ' + dns)\n",
    "print('dhcp_scope_start: ' + dhcp_scope_start)\n",
    "print('dhcp_scope_end: ' + dhcp_scope_end)\n"
   ]
  },
  {
   "cell_type": "code",
   "execution_count": null,
   "metadata": {},
   "outputs": [],
   "source": [
    "if ipaddress.ip_address(ipaddress) in ipaddress.ip_network(subnet):\n",
    "    print('using values for configuration')\n",
    "else:\n",
    "    print('ip address not in subnet')\n"
   ]
  },
  {
   "cell_type": "code",
   "execution_count": 42,
   "metadata": {},
   "outputs": [
    {
     "ename": "KeyError",
     "evalue": "'DNS'",
     "output_type": "error",
     "traceback": [
      "\u001b[0;31m---------------------------------------------------------------------------\u001b[0m",
      "\u001b[0;31mKeyError\u001b[0m                                  Traceback (most recent call last)",
      "\u001b[0;32m<ipython-input-42-4cc44a1dfdbf>\u001b[0m in \u001b[0;36m<module>\u001b[0;34m\u001b[0m\n\u001b[1;32m     23\u001b[0m   \u001b[0mdefault\u001b[0m\u001b[0;34m-\u001b[0m\u001b[0mlease\u001b[0m\u001b[0;34m-\u001b[0m\u001b[0mtime\u001b[0m \u001b[0;36m600\u001b[0m\u001b[0;34m;\u001b[0m\u001b[0;34m\u001b[0m\u001b[0;34m\u001b[0m\u001b[0m\n\u001b[1;32m     24\u001b[0m   \u001b[0mmax\u001b[0m\u001b[0;34m-\u001b[0m\u001b[0mlease\u001b[0m\u001b[0;34m-\u001b[0m\u001b[0mtime\u001b[0m \u001b[0;36m7200\u001b[0m\u001b[0;34m;\u001b[0m\u001b[0;34m\u001b[0m\u001b[0;34m\u001b[0m\u001b[0m\n\u001b[0;32m---> 25\u001b[0;31m \\}'''.format(DNS)\n\u001b[0m",
      "\u001b[0;31mKeyError\u001b[0m: 'DNS'"
     ]
    }
   ],
   "source": [
    "DNS = 'foobar'\n",
    "\n",
    "'''option domain-name \"canvas.bringup\";\n",
    "option domain-name-servers DNS;\n",
    "default-lease-time 600;\n",
    "max-lease-time 7200;\n",
    "authoritative;\n",
    "log-facility local7;\n",
    "\n",
    "allow booting;\n",
    "allow bootp;\n",
    "option option-128 code 128 = string;\n",
    "option option-129 code 129 = text;\n",
    "next-server IPADDRESS;\n",
    "filename \"/pxelinux.0\";\n",
    "\n",
    "subnet NETWORK netmask NETMASK-NOT-CIDR \\{\n",
    "  range SCOPE-START SCOPE-END;\n",
    "  option domain-name-servers DNS;\n",
    "  option domain-name \"canvas.bringup\";\n",
    "  option routers GATEWAY;\n",
    "  option broadcast-address BROADCAST;\n",
    "  default-lease-time 600;\n",
    "  max-lease-time 7200;\n",
    "\\}'''.format(DNS)\n"
   ]
  },
  {
   "cell_type": "code",
   "execution_count": null,
   "metadata": {},
   "outputs": [],
   "source": [
    "\n",
    "# write out files from -template files in same didr\n",
    "\n",
    "# dhcpd.conf\n",
    "dhcp_conf_template = open(dhcp_config_file + '-template')\n",
    "dhcp_conf = open(dhcp_config_file)\n",
    "# sed values for\n",
    "# DNS-->$dns\n",
    "# IPaddress-->$ipaddress\n",
    "# NETMASK-NOT-CIDR-->$netmask\n",
    "# NETWORK-->$network\n",
    "# BROADCAST-->$broadcast\n",
    "# SCOPE-START-->$dhcp-scope-start\n",
    "# SCOPE-END-->$dhcp-scope-end\n",
    "# GATEWAY-->$gateway\n",
    "dhcp_conf_template.close()\n",
    "dhcp_conf.close()\n",
    "\n",
    "# txt.cfg\n",
    "txt_cfg_template = open(tftp_menu_file + '-template')\n",
    "txt_cfg = open(tftp_menu_file)\n",
    "# sed values for\n",
    "# IP-->$ipaddress\n",
    "txt_cfg_template.close()\n",
    "txt_cfg.close()\n",
    "\n",
    "# local-sources-cart.seed\n",
    "preseed_cart_template = open(preseed_cart_file + '-template')\n",
    "preseed_cart = open(preseed_cart_file)\n",
    "# sed values for\n",
    "# IP-->$ipaddress\n",
    "preseed_cart_template.close()\n",
    "preseed_cart.close()\n",
    "\n",
    "# local-sources.charger.seed\n",
    "preseed_charger_template = open(preseed_charger_file + '-template')\n",
    "preseed_charger = open(preseed_charger_file)\n",
    "# sed values for\n",
    "# IP-->$ipaddress\n",
    "preseed_charger_template.close()\n",
    "preseed_charger.close()\n",
    "\n",
    "# print some stuff out about how this completed and you should bounce the services for the changes to take effect"
   ]
  }
 ],
 "metadata": {
  "kernelspec": {
   "display_name": "Python 3",
   "language": "python",
   "name": "python3"
  },
  "language_info": {
   "codemirror_mode": {
    "name": "ipython",
    "version": 3
   },
   "file_extension": ".py",
   "mimetype": "text/x-python",
   "name": "python",
   "nbconvert_exporter": "python",
   "pygments_lexer": "ipython3",
   "version": "3.7.6"
  }
 },
 "nbformat": 4,
 "nbformat_minor": 4
}
