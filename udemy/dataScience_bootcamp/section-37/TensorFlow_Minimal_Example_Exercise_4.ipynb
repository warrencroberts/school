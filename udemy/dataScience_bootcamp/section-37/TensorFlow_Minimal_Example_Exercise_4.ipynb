{
 "cells": [
  {
   "cell_type": "code",
   "execution_count": 1,
   "metadata": {},
   "outputs": [],
   "source": [
    "import numpy as np\n",
    "import matplotlib.pyplot as plt\n",
    "import tensorflow as tf"
   ]
  },
  {
   "cell_type": "code",
   "execution_count": 2,
   "metadata": {},
   "outputs": [],
   "source": [
    "sess = tf.InteractiveSession()"
   ]
  },
  {
   "cell_type": "code",
   "execution_count": 3,
   "metadata": {},
   "outputs": [
    {
     "name": "stdout",
     "output_type": "stream",
     "text": [
      "226.85689\n",
      "115.76354\n",
      "61.69412\n",
      "34.865524\n",
      "21.228933\n",
      "14.074271\n",
      "10.155863\n",
      "7.88367\n",
      "6.468622\n",
      "5.51388\n",
      "4.8169236\n",
      "4.272611\n",
      "3.825146\n",
      "3.444026\n",
      "3.1118848\n",
      "2.8182826\n",
      "2.5565064\n",
      "2.3219075\n",
      "2.1110277\n",
      "1.921131\n",
      "1.7499504\n",
      "1.5955466\n",
      "1.4562252\n",
      "1.3304856\n",
      "1.2169905\n",
      "1.1145403\n",
      "1.0220554\n",
      "0.93856496\n",
      "0.86319214\n",
      "0.7951481\n",
      "0.7337198\n",
      "0.67826366\n",
      "0.6281988\n",
      "0.583001\n",
      "0.54219764\n",
      "0.50536096\n",
      "0.4721054\n",
      "0.442083\n",
      "0.4149793\n",
      "0.39051062\n",
      "0.36842048\n",
      "0.3484782\n",
      "0.33047456\n",
      "0.31422082\n",
      "0.29954773\n",
      "0.28630084\n",
      "0.2743418\n",
      "0.26354548\n",
      "0.25379863\n",
      "0.24499945\n",
      "0.23705573\n",
      "0.22988419\n",
      "0.22340998\n",
      "0.21756506\n",
      "0.21228833\n",
      "0.20752469\n",
      "0.20322424\n",
      "0.19934186\n",
      "0.19583675\n",
      "0.19267249\n",
      "0.18981585\n",
      "0.18723688\n",
      "0.18490866\n",
      "0.18280682\n",
      "0.1809092\n",
      "0.1791961\n",
      "0.17764963\n",
      "0.1762534\n",
      "0.17499298\n",
      "0.17385504\n",
      "0.1728278\n",
      "0.1719004\n",
      "0.17106313\n",
      "0.17030725\n",
      "0.16962491\n",
      "0.16900882\n",
      "0.16845272\n",
      "0.16795069\n",
      "0.16749741\n",
      "0.16708817\n",
      "0.16671881\n",
      "0.16638531\n",
      "0.16608422\n",
      "0.1658124\n",
      "0.16556698\n",
      "0.1653455\n",
      "0.16514547\n",
      "0.1649649\n",
      "0.16480194\n",
      "0.16465479\n",
      "0.16452192\n",
      "0.16440204\n",
      "0.16429377\n",
      "0.16419601\n",
      "0.16410774\n",
      "0.16402808\n",
      "0.16395618\n",
      "0.16389126\n",
      "0.16383265\n",
      "0.16377972\n"
     ]
    }
   ],
   "source": [
    "num_observations = 1000\n",
    "learning_rate = 0.05\n",
    "observations = num_observations\n",
    "\n",
    "xs = np.random.uniform(low=-10, high=10, size=(observations,1))\n",
    "zs = np.random.uniform(-10, 10, (observations,1))\n",
    "generated_inputs = np.column_stack((xs,zs))\n",
    "\n",
    "noise = np.random.uniform(-1, 1, (observations,1))\n",
    "\n",
    "generated_targets = 2*xs - 3*zs + 5 + noise\n",
    "\n",
    "input_size = 2\n",
    "output_size = 1\n",
    "\n",
    "inputs = tf.placeholder(tf.float32, [None, input_size])\n",
    "targets = tf.placeholder(tf.float32, [None, output_size])\n",
    "weights = tf.Variable(tf.random_uniform([input_size, output_size], minval=-0.1, maxval=0.1))\n",
    "biases = tf.Variable(tf.random_uniform([output_size], minval=-0.1, maxval=0.1))\n",
    "outputs = tf.matmul(inputs, weights) + biases\n",
    "\n",
    "mean_loss = tf.losses.mean_squared_error(labels=targets, predictions=outputs) / 2.\n",
    "optimize = tf.train.GradientDescentOptimizer(learning_rate=learning_rate).minimize(mean_loss)\n",
    "\n",
    "initializer = tf.global_variables_initializer()\n",
    "sess.run(initializer)\n",
    "\n",
    "for i in range(100):\n",
    "    _, curr_loss = sess.run([optimize, mean_loss], \n",
    "        feed_dict={inputs: generated_inputs, targets: generated_targets})\n",
    "\n",
    "    print(curr_loss)"
   ]
  },
  {
   "cell_type": "code",
   "execution_count": 9,
   "metadata": {},
   "outputs": [
    {
     "data": {
      "image/png": "[encoded data removed]",
      "text/plain": [
       "<Figure size 432x288 with 1 Axes>"
      ]
     },
     "metadata": {},
     "output_type": "display_data"
    }
   ],
   "source": [
    "out = sess.run([outputs], \n",
    "               feed_dict={inputs: generated_inputs})\n",
    "\n",
    "plt.plot(np.squeeze(out), np.squeeze(generated_targets))\n",
    "plt.xlabel('outputs')\n",
    "plt.ylabel('targets')\n",
    "plt.show()"
   ]
  },
  {
   "cell_type": "code",
   "execution_count": null,
   "metadata": {},
   "outputs": [],
   "source": []
  }
 ],
 "metadata": {
  "kernelspec": {
   "display_name": "Python 3",
   "language": "python",
   "name": "python3"
  },
  "language_info": {
   "codemirror_mode": {
    "name": "ipython",
    "version": 3
   },
   "file_extension": ".py",
   "mimetype": "text/x-python",
   "name": "python",
   "nbconvert_exporter": "python",
   "pygments_lexer": "ipython3",
   "version": "3.6.5"
  }
 },
 "nbformat": 4,
 "nbformat_minor": 2
}
