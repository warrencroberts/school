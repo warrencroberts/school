{
 "cells": [
  {
   "cell_type": "code",
   "execution_count": 1,
   "metadata": {},
   "outputs": [],
   "source": [
    "import matplotlib.pyplot as plt\n",
    "import numpy as np"
   ]
  },
  {
   "cell_type": "code",
   "execution_count": 3,
   "metadata": {},
   "outputs": [],
   "source": [
    "N = 1123\n",
    "brownnoise = np.cumsum( np.sign(np.random.randn(N)) )"
   ]
  },
  {
   "cell_type": "code",
   "execution_count": 16,
   "metadata": {},
   "outputs": [
    {
     "data": {
      "text/plain": [
       "array([0.96817742, 1.57253668, 1.90995962, 2.24856091, 2.48610719,\n",
       "       2.72522367, 2.90265838, 3.06767796, 3.21077628, 3.35779917,\n",
       "       3.43840245, 3.58659695, 3.68544927, 3.78587942, 3.83761534,\n",
       "       3.93794024, 4.01977233, 4.07267793, 4.16446936, 4.23709477,\n",
       "       4.31980157, 4.33944611, 4.40692865, 4.46995523, 4.52864165,\n",
       "       4.56257599, 4.63351368, 4.65616069, 4.7195991 , 4.79856887,\n",
       "       4.81834074, 4.88154393, 4.91193171, 4.93131325, 4.96763902,\n",
       "       4.9802541 , 5.02998098, 5.07049412, 5.07084774, 5.11616332,\n",
       "       5.14178494, 5.17574814, 5.20336785, 5.24133968, 5.25510515,\n",
       "       5.27447395, 5.32217217, 5.37430826, 5.3571873 , 5.41259508])"
      ]
     },
     "execution_count": 16,
     "metadata": {},
     "output_type": "execute_result"
    }
   ],
   "source": [
    "def compute_entropy(brownnoise, nbins):\n",
    "    # bin the data and convert to probability\n",
    "    nPerBin,bins = np.histogram(brownnoise,nbins)\n",
    "    probs = nPerBin / sum(nPerBin)\n",
    "\n",
    "    # compute entropy\n",
    "    return -sum( probs*np.log2(probs+np.finfo(float).eps) )\n",
    "\n",
    "entropies = np.zeros(51)\n",
    "for bin_index in range(51):\n",
    "    entropies[bin_index] = compute_entropy(brownnoise, bin_index + 1)\n",
    "\n",
    "entropies[1:51]\n",
    "\n"
   ]
  },
  {
   "cell_type": "code",
   "execution_count": 19,
   "metadata": {},
   "outputs": [
    {
     "data": {
      "image/png": "[encoded data removed]",
      "text/plain": [
       "<Figure size 432x288 with 1 Axes>"
      ]
     },
     "metadata": {
      "needs_background": "light"
     },
     "output_type": "display_data"
    }
   ],
   "source": [
    "# show the plots\n",
    "plt.plot(range(50),entropies[1:51],'s-',label='Entropy vs Number of Bins')\n",
    "\n",
    "plt.legend()\n",
    "plt.xlabel('Number of bins')\n",
    "plt.ylabel('Entropy')\n",
    "plt.show()"
   ]
  },
  {
   "cell_type": "code",
   "execution_count": null,
   "metadata": {},
   "outputs": [],
   "source": []
  }
 ],
 "metadata": {
  "kernelspec": {
   "display_name": "Python 3",
   "language": "python",
   "name": "python3"
  },
  "language_info": {
   "codemirror_mode": {
    "name": "ipython",
    "version": 3
   },
   "file_extension": ".py",
   "mimetype": "text/x-python",
   "name": "python",
   "nbconvert_exporter": "python",
   "pygments_lexer": "ipython3",
   "version": "3.8.5"
  }
 },
 "nbformat": 4,
 "nbformat_minor": 4
}
