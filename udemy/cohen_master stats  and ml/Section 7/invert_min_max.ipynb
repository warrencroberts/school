{
 "cells": [
  {
   "cell_type": "code",
   "execution_count": 7,
   "metadata": {},
   "outputs": [],
   "source": [
    "import numpy as np\n",
    "import matplotlib.pyplot as plt\n",
    "import seaborn as sns\n",
    "import pandas as pd"
   ]
  },
  {
   "cell_type": "code",
   "execution_count": 2,
   "metadata": {},
   "outputs": [
    {
     "name": "stdout",
     "output_type": "stream",
     "text": [
      "[4.0, 8.7]\n"
     ]
    }
   ],
   "source": [
    "N = 42\n",
    "data = np.log(np.random.rand(N))*234 + 934\n",
    "\n",
    "# get min and max\n",
    "dataMin = min(data)\n",
    "dataMax = max(data)\n",
    "\n",
    "# now min-max scale\n",
    "dataS = (data-dataMin) / (dataMax-dataMin)\n",
    "newMin = 4\n",
    "newMax = 8.7\n",
    "\n",
    "dataSS = dataS*(newMax-newMin) + newMin\n",
    "\n",
    "# test it!\n",
    "print([min(dataSS), max(dataSS)])\n"
   ]
  },
  {
   "cell_type": "code",
   "execution_count": 3,
   "metadata": {},
   "outputs": [],
   "source": [
    "data_range = dataMax - dataMin\n",
    "recovered_data = dataMin +(((dataSS - newMin) * data_range)/ (newMax-newMin))"
   ]
  },
  {
   "cell_type": "code",
   "execution_count": 4,
   "metadata": {},
   "outputs": [
    {
     "name": "stdout",
     "output_type": "stream",
     "text": [
      "[4.0, 8.7]\n",
      "[82.3396520344163, 930.945060984332]\n",
      "[82.3396520344163, 930.945060984332]\n"
     ]
    }
   ],
   "source": [
    "print([min(dataSS), max(dataSS)])\n",
    "print([min(data), max(data)])\n",
    "print([min(recovered_data), max(recovered_data)])"
   ]
  },
  {
   "cell_type": "code",
   "execution_count": 13,
   "metadata": {},
   "outputs": [
    {
     "data": {
      "text/plain": [
       "<AxesSubplot:xlabel='original', ylabel='recovered'>"
      ]
     },
     "execution_count": 13,
     "metadata": {},
     "output_type": "execute_result"
    },
    {
     "data": {
      "image/png": "[encoded data removed]",
      "text/plain": [
       "<Figure size 432x288 with 1 Axes>"
      ]
     },
     "metadata": {
      "needs_background": "light"
     },
     "output_type": "display_data"
    }
   ],
   "source": [
    "plot_df = pd.DataFrame({'original':data, 'recovered':recovered_data})\n",
    "\n",
    "sns.lineplot(data=plot_df, x=\"original\", y=\"recovered\")"
   ]
  },
  {
   "cell_type": "code",
   "execution_count": null,
   "metadata": {},
   "outputs": [],
   "source": []
  }
 ],
 "metadata": {
  "kernelspec": {
   "display_name": "Python 3",
   "language": "python",
   "name": "python3"
  },
  "language_info": {
   "codemirror_mode": {
    "name": "ipython",
    "version": 3
   },
   "file_extension": ".py",
   "mimetype": "text/x-python",
   "name": "python",
   "nbconvert_exporter": "python",
   "pygments_lexer": "ipython3",
   "version": "3.7.10"
  }
 },
 "nbformat": 4,
 "nbformat_minor": 4
}
