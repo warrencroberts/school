{
 "cells": [
  {
   "cell_type": "markdown",
   "metadata": {},
   "source": [
    "# COURSE: Master statistics and machine learning: Intuition, Math, code\n",
    "##### COURSE URL: udemy.com/course/statsml_x/?couponCode=202006 \n",
    "## SECTION: The t-test family\n",
    "### VIDEO: Permutation testing\n",
    "#### TEACHER: Mike X Cohen, sincxpress.com"
   ]
  },
  {
   "cell_type": "code",
   "execution_count": 1,
   "metadata": {},
   "outputs": [],
   "source": [
    "# import libraries\n",
    "import matplotlib.pyplot as plt\n",
    "import numpy as np\n",
    "import scipy.stats as stats"
   ]
  },
  {
   "cell_type": "code",
   "execution_count": 2,
   "metadata": {},
   "outputs": [
    {
     "name": "stderr",
     "output_type": "stream",
     "text": [
      "/Users/wrober212/anaconda3/anaconda3/envs/eda_python_3_7/lib/python3.7/site-packages/ipykernel_launcher.py:25: UserWarning: In Matplotlib 3.3 individual lines on a stem plot will be added as a LineCollection instead of individual lines. This significantly improves the performance of a stem plot. To remove this warning and switch to the new behaviour, set the \"use_line_collection\" keyword argument to True.\n",
      "/Users/wrober212/anaconda3/anaconda3/envs/eda_python_3_7/lib/python3.7/site-packages/ipykernel_launcher.py:26: UserWarning: In Matplotlib 3.3 individual lines on a stem plot will be added as a LineCollection instead of individual lines. This significantly improves the performance of a stem plot. To remove this warning and switch to the new behaviour, set the \"use_line_collection\" keyword argument to True.\n"
     ]
    },
    {
     "data": {
      "image/png": "[encoded data removed]",
      "text/plain": [
       "<Figure size 432x288 with 1 Axes>"
      ]
     },
     "metadata": {
      "needs_background": "light"
     },
     "output_type": "display_data"
    }
   ],
   "source": [
    "## simulate two distributions\n",
    "\n",
    "# number of trials\n",
    "N = 100\n",
    "\n",
    "# dataset \"A\"\n",
    "r = np.random.randn(N)\n",
    "r[r>0] = np.log(1+r[r>0])\n",
    "dataA = 26-r*10\n",
    "\n",
    "# get histogram values for later comparison\n",
    "yA,xA = np.histogram(dataA,20)\n",
    "xA = (xA[:-1]+xA[1:])/2\n",
    "\n",
    "# dataset \"B\"\n",
    "r = np.random.randn(N)\n",
    "r[r>0] = np.log(1+r[r>0])\n",
    "dataB = 30-r*10\n",
    "\n",
    "#get histogram values for later comparison\n",
    "yB,xB = np.histogram(dataB,20)\n",
    "xB = (xB[:-1]+xB[1:])/2\n",
    "\n",
    "\n",
    "plt.stem(xA,yA,'b',markerfmt='bo',basefmt=' ',label='Data\"A\"')\n",
    "plt.stem(xB,yB,'r',markerfmt='ro',basefmt=' ',label='Data\"B\"')\n",
    "plt.legend()\n",
    "plt.show()"
   ]
  },
  {
   "cell_type": "code",
   "execution_count": 11,
   "metadata": {},
   "outputs": [
    {
     "data": {
      "text/plain": [
       "array([1., 1., 1., 1., 1., 1., 1., 1., 1., 1., 1., 1., 1., 1., 1., 1., 1.,\n",
       "       1., 1., 1., 1., 1., 1., 1., 1., 1., 1., 1., 1., 1., 1., 1., 1., 1.,\n",
       "       1., 1., 1., 1., 1., 1., 1., 1., 1., 1., 1., 1., 1., 1., 1., 1., 1.,\n",
       "       1., 1., 1., 1., 1., 1., 1., 1., 1., 1., 1., 1., 1., 1., 1., 1., 1.,\n",
       "       1., 1., 1., 1., 1., 1., 1., 1., 1., 1., 1., 1., 1., 1., 1., 1., 1.,\n",
       "       1., 1., 1., 1., 1., 1., 1., 1., 1., 1., 1., 1., 1., 1., 1., 2., 2.,\n",
       "       2., 2., 2., 2., 2., 2., 2., 2., 2., 2., 2., 2., 2., 2., 2., 2., 2.,\n",
       "       2., 2., 2., 2., 2., 2., 2., 2., 2., 2., 2., 2., 2., 2., 2., 2., 2.,\n",
       "       2., 2., 2., 2., 2., 2., 2., 2., 2., 2., 2., 2., 2., 2., 2., 2., 2.,\n",
       "       2., 2., 2., 2., 2., 2., 2., 2., 2., 2., 2., 2., 2., 2., 2., 2., 2.,\n",
       "       2., 2., 2., 2., 2., 2., 2., 2., 2., 2., 2., 2., 2., 2., 2., 2., 2.,\n",
       "       2., 2., 2., 2., 2., 2., 2., 2., 2., 2., 2., 2., 2.])"
      ]
     },
     "execution_count": 11,
     "metadata": {},
     "output_type": "execute_result"
    }
   ],
   "source": [
    "## mix trials together\n",
    "\n",
    "# concatenate trials\n",
    "alldata = np.hstack((dataA,dataB))\n",
    "\n",
    "# condition labels\n",
    "conds = np.hstack((np.ones(N),2*np.ones(N)))\n",
    "conds"
   ]
  },
  {
   "cell_type": "code",
   "execution_count": 4,
   "metadata": {},
   "outputs": [
    {
     "name": "stdout",
     "output_type": "stream",
     "text": [
      "[28.834227162092454, 31.878304241151703]\n",
      "[30.043917941028624, 30.668613462215532]\n"
     ]
    }
   ],
   "source": [
    "## generate one null hypothesis scenario\n",
    "\n",
    "# random permutation\n",
    "fakeconds = np.random.permutation(N*2)\n",
    "\n",
    "# shuffled condition labels\n",
    "fakeconds[fakeconds<N] = 1\n",
    "fakeconds[fakeconds>1] = 2\n",
    "\n",
    "\n",
    "# these two means should be different.\n",
    "print([np.mean(alldata[conds==1]), np.mean(alldata[conds==2])])\n",
    "\n",
    "# should these two be different?\n",
    "print([np.mean(alldata[fakeconds==1]), np.mean(alldata[fakeconds==2])])\n"
   ]
  },
  {
   "cell_type": "code",
   "execution_count": 9,
   "metadata": {},
   "outputs": [
    {
     "data": {
      "text/plain": [
       "array([129,  86, 141, 183, 110,  59,  49, 171,  87,  19, 133,  55, 158,\n",
       "       185,   0, 114,  29,  48, 197,  27, 146, 194,  78, 160, 181, 193,\n",
       "       120, 153,   1,  74, 118,  93,  20, 105,   5, 100,  98, 198, 117,\n",
       "        62,  46, 174,  56,  30, 156, 124,  65,  42, 116,  51, 131,  91,\n",
       "        69, 134, 179, 119,   7, 143, 145,  38,  24, 136, 103,  66, 123,\n",
       "       149,   3,  50,  41,  45,  26, 166, 169, 168,  77, 188,  10, 101,\n",
       "        60,  80,  61,  17,  73, 192,  63,  16, 132,   6, 104,  71,  58,\n",
       "         9, 111,  18, 199, 191,  85, 189,  84, 102, 140, 182, 147,  70,\n",
       "        25,  64, 172,  67, 177, 161,  53, 112,  54, 115,  28, 165,  36,\n",
       "       196, 139,  34, 175, 190,  90, 142,   4,  37,  68,  11,  33,  88,\n",
       "       184,  44, 163,  40, 176, 187, 148, 108, 137,  99,  96,  32,  35,\n",
       "        31,  82,  22, 144, 127,  97,  81, 138, 162,  72,   8,  83, 135,\n",
       "         2, 195, 173,  75, 178,  13, 154, 107,  52,  14,  89,  94, 159,\n",
       "        57,  47, 122, 157,  76, 109, 186, 113,  95,  21, 167,  92,  79,\n",
       "        15,  12, 121, 164, 150, 170, 152, 130, 180, 155, 128, 126, 151,\n",
       "       125,  43, 106,  23,  39])"
      ]
     },
     "execution_count": 9,
     "metadata": {},
     "output_type": "execute_result"
    }
   ],
   "source": [
    "np.random.permutation(N*2)"
   ]
  },
  {
   "cell_type": "code",
   "execution_count": 5,
   "metadata": {},
   "outputs": [
    {
     "data": {
      "image/png": "[encoded data removed]",
      "text/plain": [
       "<Figure size 432x288 with 1 Axes>"
      ]
     },
     "metadata": {
      "needs_background": "light"
     },
     "output_type": "display_data"
    }
   ],
   "source": [
    "## and now a distribution of null hypothesis values\n",
    "\n",
    "nPerms = 1000\n",
    "permdiffs = np.zeros(nPerms)\n",
    "\n",
    "for permi in range(nPerms):\n",
    "    fconds = np.random.permutation(N*2)\n",
    "    fconds[fconds<N] = 1\n",
    "    fconds[fconds>1] = 2\n",
    "    permdiffs[permi] = np.mean(alldata[fconds==2]) - np.mean(alldata[fconds==1])\n",
    "\n",
    "\n",
    "# plot the distribution of H0 values\n",
    "plt.hist(permdiffs,50)\n",
    "\n",
    "# and plot the observed value on top\n",
    "obsval = np.mean(alldata[conds==2]) - np.mean(alldata[conds==1])\n",
    "plt.plot([obsval, obsval],[0, 50],'m',linewidth=10)\n",
    "plt.xlabel('Value')\n",
    "plt.ylabel('Count')\n",
    "plt.show()"
   ]
  },
  {
   "cell_type": "code",
   "execution_count": 6,
   "metadata": {},
   "outputs": [
    {
     "name": "stdout",
     "output_type": "stream",
     "text": [
      "0.011422146776257747 0.008\n"
     ]
    }
   ],
   "source": [
    "## two methods of evaluating statistical significance\n",
    "\n",
    "# Z-value\n",
    "zVal = ( obsval-np.mean(permdiffs) ) / np.std(permdiffs,ddof=1)\n",
    "p = 1-stats.norm.cdf(abs(zVal))\n",
    "\n",
    "# p-value count\n",
    "pCount = sum(permdiffs>obsval)/nPerms\n",
    "\n",
    "print(p,pCount)"
   ]
  },
  {
   "cell_type": "code",
   "execution_count": null,
   "metadata": {},
   "outputs": [],
   "source": []
  }
 ],
 "metadata": {
  "kernelspec": {
   "display_name": "Python 3",
   "language": "python",
   "name": "python3"
  },
  "language_info": {
   "codemirror_mode": {
    "name": "ipython",
    "version": 3
   },
   "file_extension": ".py",
   "mimetype": "text/x-python",
   "name": "python",
   "nbconvert_exporter": "python",
   "pygments_lexer": "ipython3",
   "version": "3.7.10"
  }
 },
 "nbformat": 4,
 "nbformat_minor": 4
}
